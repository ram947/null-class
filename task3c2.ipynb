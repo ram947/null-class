{
 "cells": [
  {
   "cell_type": "code",
   "execution_count": 1,
   "id": "be56bb11-c84c-418b-81f7-79e3cda129e7",
   "metadata": {},
   "outputs": [
    {
     "name": "stdout",
     "output_type": "stream",
     "text": [
      "Graph not available outside 6 PM - 8 PM IST\n"
     ]
    }
   ],
   "source": [
    "import pandas as pd\n",
    "import plotly.express as px\n",
    "from datetime import datetime\n",
    "import pytz\n",
    "\n",
    "df = pd.read_csv('play store data.csv')\n",
    "\n",
    "df['Installs'] = pd.to_numeric(df['Installs'], errors='coerce')\n",
    "\n",
    "df = df[~df['Category'].str.startswith(('A', 'C', 'G', 'S'))]\n",
    "\n",
    "\n",
    "top_categories = df.groupby('Category', as_index=False)['Installs'].sum().nlargest(5, 'Installs')\n",
    "\n",
    "df_filtered = df[df['Category'].isin(top_categories['Category'])].copy()\n",
    "\n",
    "\n",
    "ist = pytz.timezone('Asia/Kolkata')\n",
    "current_time = datetime.now(ist)\n",
    "hour = current_time.hour\n",
    "\n",
    "\n",
    "if 16 <= hour < 20:\n",
    "    fig = px.choropleth(\n",
    "        df_filtered, locations=\"Category\", locationmode=\"ISO-3\",\n",
    "        color=\"Installs\", hover_name=\"Category\",\n",
    "        title=\"Global Installs by Category (Filtered)\",\n",
    "        color_continuous_scale=\"Blues\"\n",
    "    )\n",
    "    \n",
    "    fig.show()\n",
    "else:\n",
    "    print(\"Graph not available outside 6 PM - 8 PM IST\")"
   ]
  },
  {
   "cell_type": "code",
   "execution_count": null,
   "id": "0797b71d-ec9f-486a-8721-64b21ce080d0",
   "metadata": {},
   "outputs": [],
   "source": []
  }
 ],
 "metadata": {
  "kernelspec": {
   "display_name": "Python 3 (ipykernel)",
   "language": "python",
   "name": "python3"
  },
  "language_info": {
   "codemirror_mode": {
    "name": "ipython",
    "version": 3
   },
   "file_extension": ".py",
   "mimetype": "text/x-python",
   "name": "python",
   "nbconvert_exporter": "python",
   "pygments_lexer": "ipython3",
   "version": "3.13.1"
  }
 },
 "nbformat": 4,
 "nbformat_minor": 5
}
